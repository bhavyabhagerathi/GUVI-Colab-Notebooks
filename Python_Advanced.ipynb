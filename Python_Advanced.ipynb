{
  "nbformat": 4,
  "nbformat_minor": 0,
  "metadata": {
    "colab": {
      "provenance": [],
      "authorship_tag": "ABX9TyN/VFtuO3cu467F85gHI4xW",
      "include_colab_link": true
    },
    "kernelspec": {
      "name": "python3",
      "display_name": "Python 3"
    },
    "language_info": {
      "name": "python"
    }
  },
  "cells": [
    {
      "cell_type": "markdown",
      "metadata": {
        "id": "view-in-github",
        "colab_type": "text"
      },
      "source": [
        "<a href=\"https://colab.research.google.com/github/bhavyabhagerathi/GUVI-Colab-Notebooks/blob/main/Python_Advanced.ipynb\" target=\"_parent\"><img src=\"https://colab.research.google.com/assets/colab-badge.svg\" alt=\"Open In Colab\"/></a>"
      ]
    },
    {
      "cell_type": "code",
      "execution_count": null,
      "metadata": {
        "colab": {
          "base_uri": "https://localhost:8080/"
        },
        "id": "kzJNqcoBaE9z",
        "outputId": "6b3bf305-1b7e-4739-f37c-24e53ad8dbf8"
      },
      "outputs": [
        {
          "output_type": "execute_result",
          "data": {
            "text/plain": [
              "[64, 128, 256, 512]"
            ]
          },
          "metadata": {},
          "execution_count": 3
        }
      ],
      "source": [
        "[2**x for x in range(10) if x>5]"
      ]
    },
    {
      "cell_type": "code",
      "source": [
        "[x for x in range(20) if x%2==1]"
      ],
      "metadata": {
        "colab": {
          "base_uri": "https://localhost:8080/"
        },
        "id": "o9PEvO8Feyes",
        "outputId": "d77727da-0cf0-4d3c-d0e3-0f59de8b42ea"
      },
      "execution_count": null,
      "outputs": [
        {
          "output_type": "execute_result",
          "data": {
            "text/plain": [
              "[1, 3, 5, 7, 9, 11, 13, 15, 17, 19]"
            ]
          },
          "metadata": {},
          "execution_count": 4
        }
      ]
    },
    {
      "cell_type": "code",
      "source": [
        "[x+y for x in ['Python','C'] for y in ['Language', 'Programming']]"
      ],
      "metadata": {
        "colab": {
          "base_uri": "https://localhost:8080/"
        },
        "id": "n-1hV2ZXe7mT",
        "outputId": "87cd8571-d4e0-4b7b-b0a9-8c8154db6a33"
      },
      "execution_count": null,
      "outputs": [
        {
          "output_type": "execute_result",
          "data": {
            "text/plain": [
              "['PythonLanguage', 'PythonProgramming', 'CLanguage', 'CProgramming']"
            ]
          },
          "metadata": {},
          "execution_count": 5
        }
      ]
    },
    {
      "cell_type": "code",
      "source": [
        "list1=[34,12,4,78,0]\n",
        "sorted(list1)"
      ],
      "metadata": {
        "colab": {
          "base_uri": "https://localhost:8080/"
        },
        "id": "lBJ4cBajhNrr",
        "outputId": "b1d809ba-5fbb-4b75-dd00-e26c6660d595"
      },
      "execution_count": null,
      "outputs": [
        {
          "output_type": "execute_result",
          "data": {
            "text/plain": [
              "[0, 4, 12, 34, 78]"
            ]
          },
          "metadata": {},
          "execution_count": 7
        }
      ]
    },
    {
      "cell_type": "code",
      "source": [
        "list1=[34,12,4,78,0]\n",
        "list(enumerate(list1))"
      ],
      "metadata": {
        "colab": {
          "base_uri": "https://localhost:8080/"
        },
        "id": "Tehwjop2hiJA",
        "outputId": "38e3d798-adde-4a00-b448-d917589705da"
      },
      "execution_count": null,
      "outputs": [
        {
          "output_type": "execute_result",
          "data": {
            "text/plain": [
              "[(0, 34), (1, 12), (2, 4), (3, 78), (4, 0)]"
            ]
          },
          "metadata": {},
          "execution_count": 8
        }
      ]
    },
    {
      "cell_type": "code",
      "source": [
        "zip(['Name','Post wedding name'],['Bhavya','Bhavya Bhandav Reddy'])\n",
        "for item in zip(['Name','Post wedding name'],['Bhavya','Bhavya Bhandav Reddy']):\n",
        "  print(item)"
      ],
      "metadata": {
        "colab": {
          "base_uri": "https://localhost:8080/"
        },
        "id": "70wN5o6jhvPd",
        "outputId": "5c12d449-5088-4439-bc25-291924256b32"
      },
      "execution_count": null,
      "outputs": [
        {
          "output_type": "stream",
          "name": "stdout",
          "text": [
            "('Name', 'Bhavya')\n",
            "('Post wedding name', 'Bhavya Bhandav Reddy')\n"
          ]
        }
      ]
    },
    {
      "cell_type": "code",
      "source": [
        "f=lambda x,y,z:x+y+z\n",
        "f(1,2,3)"
      ],
      "metadata": {
        "colab": {
          "base_uri": "https://localhost:8080/"
        },
        "id": "wucbHlJTbi5G",
        "outputId": "6cfdd11a-faf2-4ae9-8b9a-48f4b86cc625"
      },
      "execution_count": null,
      "outputs": [
        {
          "output_type": "execute_result",
          "data": {
            "text/plain": [
              "6"
            ]
          },
          "metadata": {},
          "execution_count": 1
        }
      ]
    },
    {
      "cell_type": "code",
      "source": [
        "L=[1,23,46,78,91]\n",
        "list(filter(lambda x:(x%2==0),L))"
      ],
      "metadata": {
        "colab": {
          "base_uri": "https://localhost:8080/"
        },
        "id": "axqtR48JcJ0V",
        "outputId": "09ba92fe-6404-49f6-b94e-2590eb7e297b"
      },
      "execution_count": null,
      "outputs": [
        {
          "output_type": "execute_result",
          "data": {
            "text/plain": [
              "[46, 78]"
            ]
          },
          "metadata": {},
          "execution_count": 2
        }
      ]
    },
    {
      "cell_type": "code",
      "source": [
        "L=[1,2,3,4]\n",
        "list(map(lambda x:x*2,L))"
      ],
      "metadata": {
        "colab": {
          "base_uri": "https://localhost:8080/"
        },
        "id": "ssyBbcufcsAi",
        "outputId": "bba34d07-a373-4bd0-b6a8-b49edd8cce46"
      },
      "execution_count": null,
      "outputs": [
        {
          "output_type": "execute_result",
          "data": {
            "text/plain": [
              "[2, 4, 6, 8]"
            ]
          },
          "metadata": {},
          "execution_count": 3
        }
      ]
    },
    {
      "cell_type": "markdown",
      "source": [
        "**File** **Handling**"
      ],
      "metadata": {
        "id": "9EIveuyidswJ"
      }
    },
    {
      "cell_type": "code",
      "source": [
        "fp = open(\"sample.txt\",\"r\")"
      ],
      "metadata": {
        "id": "4u7qhhrugiZh"
      },
      "execution_count": null,
      "outputs": []
    },
    {
      "cell_type": "code",
      "source": [
        "fp.close()"
      ],
      "metadata": {
        "id": "mIPpfM_v-v3x"
      },
      "execution_count": null,
      "outputs": []
    },
    {
      "cell_type": "code",
      "source": [
        "fp=open(\"sample.txt\",\"r\")"
      ],
      "metadata": {
        "id": "2F_CBzEU-559"
      },
      "execution_count": null,
      "outputs": []
    },
    {
      "cell_type": "code",
      "source": [
        "fp.read()"
      ],
      "metadata": {
        "colab": {
          "base_uri": "https://localhost:8080/",
          "height": 36
        },
        "id": "17b7iSeA-9BR",
        "outputId": "b1b4adb1-84b4-41e5-c802-672947cf97be"
      },
      "execution_count": null,
      "outputs": [
        {
          "output_type": "execute_result",
          "data": {
            "text/plain": [
              "''"
            ],
            "application/vnd.google.colaboratory.intrinsic+json": {
              "type": "string"
            }
          },
          "metadata": {},
          "execution_count": 20
        }
      ]
    },
    {
      "cell_type": "code",
      "source": [
        "fp.close()"
      ],
      "metadata": {
        "id": "eYVflp4J_FSb"
      },
      "execution_count": null,
      "outputs": []
    },
    {
      "cell_type": "code",
      "source": [
        "fp=open(\"sample.txt\",\"w\")"
      ],
      "metadata": {
        "id": "hSm08sKU_HXD"
      },
      "execution_count": null,
      "outputs": []
    },
    {
      "cell_type": "code",
      "source": [
        "fp.close()"
      ],
      "metadata": {
        "id": "nb3lNHdg_Ri3"
      },
      "execution_count": null,
      "outputs": []
    },
    {
      "cell_type": "code",
      "source": [
        "fp=open(\"sample.txt\",\"r\")"
      ],
      "metadata": {
        "id": "KQEZmsGR_S_e"
      },
      "execution_count": null,
      "outputs": []
    },
    {
      "cell_type": "code",
      "source": [
        "fp.read()"
      ],
      "metadata": {
        "colab": {
          "base_uri": "https://localhost:8080/",
          "height": 36
        },
        "id": "854UC_-k_Y9Q",
        "outputId": "b5013963-bfd0-4571-fa85-8bfb14049ba8"
      },
      "execution_count": null,
      "outputs": [
        {
          "output_type": "execute_result",
          "data": {
            "text/plain": [
              "'Hi, this is Bhavya Bhagerathi.'"
            ],
            "application/vnd.google.colaboratory.intrinsic+json": {
              "type": "string"
            }
          },
          "metadata": {},
          "execution_count": 26
        }
      ]
    },
    {
      "cell_type": "code",
      "source": [
        "fp.close()"
      ],
      "metadata": {
        "id": "UZoW37TZ_6G3"
      },
      "execution_count": null,
      "outputs": []
    },
    {
      "cell_type": "code",
      "source": [
        "fp=open(\"sample.txt\",\"w\")"
      ],
      "metadata": {
        "id": "QYbH0UM1_7pk"
      },
      "execution_count": null,
      "outputs": []
    },
    {
      "cell_type": "code",
      "source": [
        "fp.close()"
      ],
      "metadata": {
        "id": "UcjTg5t4AH8l"
      },
      "execution_count": null,
      "outputs": []
    },
    {
      "cell_type": "code",
      "source": [
        "fp=open(\"sample.txt\",\"r\")"
      ],
      "metadata": {
        "id": "vYbDpREKAJL_"
      },
      "execution_count": null,
      "outputs": []
    },
    {
      "cell_type": "code",
      "source": [
        "fp.read()"
      ],
      "metadata": {
        "colab": {
          "base_uri": "https://localhost:8080/",
          "height": 72
        },
        "id": "DVjku-c9APf8",
        "outputId": "9a523d0c-16a3-41f6-b25b-cbafc6a14c72"
      },
      "execution_count": null,
      "outputs": [
        {
          "output_type": "execute_result",
          "data": {
            "text/plain": [
              "'My full name is Bhavya Bhagerathi.\\nI am from Bangalore and I am a BE graduate specializing in Computer Science & engineering. \\nBefore my graduation, I was interning in the SDE role at CME Group for 6 months. \\nAfter my graduation, I joined Advanced Programming Professional and Master Data Science Program at GUVI institute in Chennai which works under IIT-Madras.\\n'"
            ],
            "application/vnd.google.colaboratory.intrinsic+json": {
              "type": "string"
            }
          },
          "metadata": {},
          "execution_count": 31
        }
      ]
    },
    {
      "cell_type": "code",
      "source": [
        "fp=open(\"sample.txt\",\"r\")"
      ],
      "metadata": {
        "id": "bGl7w3wbASz6"
      },
      "execution_count": null,
      "outputs": []
    },
    {
      "cell_type": "code",
      "source": [
        "fp.readlines()"
      ],
      "metadata": {
        "colab": {
          "base_uri": "https://localhost:8080/"
        },
        "id": "-Y5VYDYdAZCf",
        "outputId": "da1aae32-1649-444f-8e0e-8f7cb3a2b55a"
      },
      "execution_count": null,
      "outputs": [
        {
          "output_type": "execute_result",
          "data": {
            "text/plain": [
              "['Before my graduation, I was interning in the SDE role at CME Group for 6 months. \\n',\n",
              " 'After my graduation, I joined Advanced Programming Professional and Master Data Science Program at GUVI institute in Chennai which works under IIT-Madras.\\n']"
            ]
          },
          "metadata": {},
          "execution_count": 38
        }
      ]
    },
    {
      "cell_type": "code",
      "source": [
        "fp.close()"
      ],
      "metadata": {
        "id": "rWmELgcfAsHl"
      },
      "execution_count": null,
      "outputs": []
    },
    {
      "cell_type": "code",
      "source": [
        "fp=open(\"sample.txt\",\"a\")"
      ],
      "metadata": {
        "id": "2hTNrYzHAw9a"
      },
      "execution_count": null,
      "outputs": []
    },
    {
      "cell_type": "code",
      "source": [
        "fp.close()"
      ],
      "metadata": {
        "id": "RBvWwK28A7u9"
      },
      "execution_count": null,
      "outputs": []
    },
    {
      "cell_type": "code",
      "source": [
        "fp=open(\"sample.txt\",\"r\")"
      ],
      "metadata": {
        "id": "2Luz-JlHA9YU"
      },
      "execution_count": null,
      "outputs": []
    },
    {
      "cell_type": "code",
      "source": [
        "fp.readlines()"
      ],
      "metadata": {
        "colab": {
          "base_uri": "https://localhost:8080/"
        },
        "id": "5Zz5UC6TBA_J",
        "outputId": "3390f8b9-199a-4f22-b847-3dd709be95ae"
      },
      "execution_count": null,
      "outputs": [
        {
          "output_type": "execute_result",
          "data": {
            "text/plain": [
              "['My full name is Bhavya Bhagerathi.\\n',\n",
              " 'I am from Bangalore and I am a BE graduate specializing in Computer Science & engineering. \\n',\n",
              " 'Before my graduation, I was interning in the SDE role at CME Group for 6 months. \\n',\n",
              " 'After my graduation, I joined Advanced Programming Professional and Master Data Science Program at GUVI institute in Chennai which works under IIT-Madras.\\n',\n",
              " 'In the course, I am working on projects involving Python, MongoDB, NLP, Data Visualization, Computational Thinking and concepts of Machine Learning as well. \\n',\n",
              " \"I'm also familiar with front-end technologies HTML, CSS and JavaScript.\\n\"]"
            ]
          },
          "metadata": {},
          "execution_count": 43
        }
      ]
    },
    {
      "cell_type": "code",
      "source": [
        "fp.close()"
      ],
      "metadata": {
        "id": "MAoSnYTKBI7e"
      },
      "execution_count": null,
      "outputs": []
    },
    {
      "cell_type": "code",
      "source": [
        "fp=open(\"sample.txt\",\"a\")"
      ],
      "metadata": {
        "id": "bkkhU22dBKp3"
      },
      "execution_count": null,
      "outputs": []
    },
    {
      "cell_type": "code",
      "source": [
        "fp.write(\"This is an additional sentence.\")"
      ],
      "metadata": {
        "colab": {
          "base_uri": "https://localhost:8080/"
        },
        "id": "_m7sZOxwBQj-",
        "outputId": "5213b3b2-7ca1-4856-b07c-da1ff6c285ec"
      },
      "execution_count": null,
      "outputs": [
        {
          "output_type": "execute_result",
          "data": {
            "text/plain": [
              "31"
            ]
          },
          "metadata": {},
          "execution_count": 47
        }
      ]
    },
    {
      "cell_type": "code",
      "source": [
        "fp.read()"
      ],
      "metadata": {
        "colab": {
          "base_uri": "https://localhost:8080/",
          "height": 171
        },
        "id": "TFJENqAXBZCX",
        "outputId": "ba7da920-2c09-4fd4-8b1e-5b80bfdaa03b"
      },
      "execution_count": null,
      "outputs": [
        {
          "output_type": "error",
          "ename": "UnsupportedOperation",
          "evalue": "ignored",
          "traceback": [
            "\u001b[0;31m---------------------------------------------------------------------------\u001b[0m",
            "\u001b[0;31mUnsupportedOperation\u001b[0m                      Traceback (most recent call last)",
            "\u001b[0;32m<ipython-input-48-5b707e20d623>\u001b[0m in \u001b[0;36m<cell line: 1>\u001b[0;34m()\u001b[0m\n\u001b[0;32m----> 1\u001b[0;31m \u001b[0mfp\u001b[0m\u001b[0;34m.\u001b[0m\u001b[0mread\u001b[0m\u001b[0;34m(\u001b[0m\u001b[0;34m)\u001b[0m\u001b[0;34m\u001b[0m\u001b[0;34m\u001b[0m\u001b[0m\n\u001b[0m",
            "\u001b[0;31mUnsupportedOperation\u001b[0m: not readable"
          ]
        }
      ]
    },
    {
      "cell_type": "code",
      "source": [
        "fp.close()"
      ],
      "metadata": {
        "id": "ojd4zqUYBa7f"
      },
      "execution_count": null,
      "outputs": []
    },
    {
      "cell_type": "code",
      "source": [
        "fp=open(\"sample.txt\",\"r\")"
      ],
      "metadata": {
        "id": "Z_5pGs4KBcgE"
      },
      "execution_count": null,
      "outputs": []
    },
    {
      "cell_type": "code",
      "source": [
        "fp.readlines()"
      ],
      "metadata": {
        "colab": {
          "base_uri": "https://localhost:8080/"
        },
        "id": "K1BV2rC7Bfzu",
        "outputId": "3d5c2748-71f0-48f4-da0e-dd57d94b05f8"
      },
      "execution_count": null,
      "outputs": [
        {
          "output_type": "execute_result",
          "data": {
            "text/plain": [
              "['My full name is Bhavya Bhagerathi.\\n',\n",
              " 'I am from Bangalore and I am a BE graduate specializing in Computer Science & engineering. \\n',\n",
              " 'Before my graduation, I was interning in the SDE role at CME Group for 6 months. \\n',\n",
              " 'After my graduation, I joined Advanced Programming Professional and Master Data Science Program at GUVI institute in Chennai which works under IIT-Madras.\\n',\n",
              " 'In the course, I am working on projects involving Python, MongoDB, NLP, Data Visualization, Computational Thinking and concepts of Machine Learning as well. \\n',\n",
              " \"I'm also familiar with front-end technologies HTML, CSS and JavaScript.\\n\",\n",
              " 'This is an additional sentence.']"
            ]
          },
          "metadata": {},
          "execution_count": 51
        }
      ]
    },
    {
      "cell_type": "code",
      "source": [
        "fp.close()"
      ],
      "metadata": {
        "id": "zRIMfM91BpMP"
      },
      "execution_count": null,
      "outputs": []
    },
    {
      "cell_type": "markdown",
      "source": [
        "**Object Oriented Programming**\n"
      ],
      "metadata": {
        "id": "_7iU8LDMdbdt"
      }
    },
    {
      "cell_type": "code",
      "source": [
        "class student:\n",
        "  branch=\"CSE\"\n",
        "\n",
        "  def set_details(self,rno, name):\n",
        "    self.rno=rno\n",
        "    self.name=name\n",
        "\n",
        "  def print_details(self):\n",
        "    print(\"R No : \",self.rno)\n",
        "    print(\"Name : \",self.name)\n",
        "    print(\"branch : \",student.branch)"
      ],
      "metadata": {
        "id": "8j-RoVR-dhSb"
      },
      "execution_count": null,
      "outputs": []
    },
    {
      "cell_type": "code",
      "source": [
        "s1=student()\n",
        "s1.set_details('1rv18cs042','Bhavya')\n",
        "s1.print_details()"
      ],
      "metadata": {
        "colab": {
          "base_uri": "https://localhost:8080/"
        },
        "id": "Nr6uuoT-euIk",
        "outputId": "9ebc3cfb-4764-4382-9afe-db3ee6acaae0"
      },
      "execution_count": null,
      "outputs": [
        {
          "output_type": "stream",
          "name": "stdout",
          "text": [
            "R No :  1rv18cs042\n",
            "Name :  Bhavya\n",
            "branch :  CSE\n"
          ]
        }
      ]
    },
    {
      "cell_type": "code",
      "source": [
        "s2=student()\n",
        "s2.set_details('1rv18cs043','Chethan S')\n",
        "s2.print_details()"
      ],
      "metadata": {
        "colab": {
          "base_uri": "https://localhost:8080/"
        },
        "id": "Pn4IpRP6e8yH",
        "outputId": "1c8164f0-864e-4eac-ebaa-53ca6500525e"
      },
      "execution_count": null,
      "outputs": [
        {
          "output_type": "stream",
          "name": "stdout",
          "text": [
            "R No :  1rv18cs043\n",
            "Name :  Chethan S\n",
            "branch :  CSE\n"
          ]
        }
      ]
    },
    {
      "cell_type": "code",
      "source": [
        "class Student:\n",
        "\n",
        "  def __init__(self,name,age):\n",
        "    self.name=name\n",
        "    self.age=age\n",
        "\n",
        "  def show(self):\n",
        "    print(\"Name:\",self.name,\"Age:\",self.age)\n"
      ],
      "metadata": {
        "id": "D5mIAeDHmK62"
      },
      "execution_count": null,
      "outputs": []
    },
    {
      "cell_type": "code",
      "source": [
        "emma=Student(\"Jessa\",14)\n",
        "emma.show()"
      ],
      "metadata": {
        "colab": {
          "base_uri": "https://localhost:8080/"
        },
        "id": "QF4erIa-mlV7",
        "outputId": "ef52adb5-a2f2-4be9-a02d-b113b1184fce"
      },
      "execution_count": null,
      "outputs": [
        {
          "output_type": "stream",
          "name": "stdout",
          "text": [
            "Name: Jessa Age: 14\n"
          ]
        }
      ]
    },
    {
      "cell_type": "markdown",
      "source": [
        "**Pickle** **Module**"
      ],
      "metadata": {
        "id": "yuz_BGfrJNMG"
      }
    },
    {
      "cell_type": "code",
      "source": [
        "import pickle\n",
        "\n",
        "def write():\n",
        "\tf=open(\"binarywrite.bin\",\"wb\")\n",
        "\tlist=[\"CTP\",'Chemistry','Maths','English']\n",
        "\tpickle.dump(list,f)\n",
        "\tf.close()\n",
        "\n",
        "write()\n",
        "print(\"Data Written Successfully\")"
      ],
      "metadata": {
        "id": "GxEwXoYCJRgh",
        "colab": {
          "base_uri": "https://localhost:8080/"
        },
        "outputId": "84fbddd1-9281-4a20-d041-ae2c02714c5e"
      },
      "execution_count": 2,
      "outputs": [
        {
          "output_type": "stream",
          "name": "stdout",
          "text": [
            "Data Written Successfully\n"
          ]
        }
      ]
    },
    {
      "cell_type": "code",
      "source": [
        "import pickle\n",
        "\n",
        "def read():\n",
        "\tf=open(\"binarywrite.bin\",\"rb\")\n",
        "\tL=pickle.load(f)\n",
        "\tprint(L)\n",
        "\tf.close()\n",
        "\n",
        "\n",
        "read()\n",
        "print(\"Data read and displayed successfully\")"
      ],
      "metadata": {
        "colab": {
          "base_uri": "https://localhost:8080/"
        },
        "id": "oAXwWdnLJ6yS",
        "outputId": "835d9c64-7c38-45e7-cf9c-9f9c7de7051e"
      },
      "execution_count": 3,
      "outputs": [
        {
          "output_type": "stream",
          "name": "stdout",
          "text": [
            "['CTP', 'Chemistry', 'Maths', 'English']\n",
            "Data read and displayed successfully\n"
          ]
        }
      ]
    }
  ]
}