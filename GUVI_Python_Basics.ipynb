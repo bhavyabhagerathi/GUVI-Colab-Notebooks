{
  "nbformat": 4,
  "nbformat_minor": 0,
  "metadata": {
    "colab": {
      "provenance": [],
      "include_colab_link": true
    },
    "kernelspec": {
      "name": "python3",
      "display_name": "Python 3"
    },
    "language_info": {
      "name": "python"
    }
  },
  "cells": [
    {
      "cell_type": "markdown",
      "metadata": {
        "id": "view-in-github",
        "colab_type": "text"
      },
      "source": [
        "<a href=\"https://colab.research.google.com/github/bhavyabhagerathi/GUVI-Colab-Notebooks/blob/main/GUVI_Python_Basics.ipynb\" target=\"_parent\"><img src=\"https://colab.research.google.com/assets/colab-badge.svg\" alt=\"Open In Colab\"/></a>"
      ]
    },
    {
      "cell_type": "code",
      "execution_count": null,
      "metadata": {
        "colab": {
          "base_uri": "https://localhost:8080/"
        },
        "id": "rMfIIWAeo7K7",
        "outputId": "b6a3a4fb-684c-474c-8cbb-affa33aabe9d"
      },
      "outputs": [
        {
          "output_type": "stream",
          "name": "stdout",
          "text": [
            "B\n"
          ]
        }
      ],
      "source": [
        "a=\"BHAVYA\"\n",
        "\n",
        "x = slice(1)\n",
        "\n",
        "print(a[x])\n"
      ]
    },
    {
      "cell_type": "code",
      "source": [
        "s1='BHAVYA'\n",
        "\n",
        "print(s1[1:6:2])"
      ],
      "metadata": {
        "colab": {
          "base_uri": "https://localhost:8080/"
        },
        "id": "fM3cblwCHjck",
        "outputId": "2f08de62-a4a2-4859-df8d-fa3b9ed610b7"
      },
      "execution_count": null,
      "outputs": [
        {
          "output_type": "stream",
          "name": "stdout",
          "text": [
            "HVA\n"
          ]
        }
      ]
    },
    {
      "cell_type": "code",
      "source": [
        "s1=\"BHAVYA\"\n",
        "l1=[\"Balaji\",\"Rama\",\"Mukund\"]\n",
        "print(list(enumerate(s1)))\n",
        "print(list(enumerate(l1)))"
      ],
      "metadata": {
        "colab": {
          "base_uri": "https://localhost:8080/"
        },
        "id": "EHP7NShIY4bm",
        "outputId": "171b0641-f15a-4918-fd38-a56858765f72"
      },
      "execution_count": null,
      "outputs": [
        {
          "output_type": "stream",
          "name": "stdout",
          "text": [
            "[(0, 'B'), (1, 'H'), (2, 'A'), (3, 'V'), (4, 'Y'), (5, 'A')]\n",
            "[(0, 'Balaji'), (1, 'Rama'), (2, 'Mukund')]\n"
          ]
        }
      ]
    },
    {
      "cell_type": "code",
      "source": [
        "s1=\"My fav thing to do is this Nothinggg\"\n",
        "print(s1.lstrip())"
      ],
      "metadata": {
        "colab": {
          "base_uri": "https://localhost:8080/"
        },
        "id": "ANa_lphnabat",
        "outputId": "ab2fa820-b6dd-417e-dc45-b15d31162145"
      },
      "execution_count": null,
      "outputs": [
        {
          "output_type": "stream",
          "name": "stdout",
          "text": [
            "My fav thing to do is this Nothinggg\n"
          ]
        }
      ]
    },
    {
      "cell_type": "code",
      "source": [
        "sampleList = [10, 20, 30, 40, 50]\n",
        "print(sampleList[-2])\n",
        "print(sampleList[-4:-1])"
      ],
      "metadata": {
        "colab": {
          "base_uri": "https://localhost:8080/"
        },
        "id": "4mO8nZSOnlR2",
        "outputId": "de24df8e-f701-4e9f-c62b-096ecda4ad63"
      },
      "execution_count": null,
      "outputs": [
        {
          "output_type": "stream",
          "name": "stdout",
          "text": [
            "40\n",
            "[20, 30, 40]\n"
          ]
        }
      ]
    },
    {
      "cell_type": "code",
      "source": [
        "aList = [\"Ramayana\", [4, 8, 12, 16]]\n",
        "print(aList[0][1])\n",
        "print(aList[1][3])"
      ],
      "metadata": {
        "colab": {
          "base_uri": "https://localhost:8080/"
        },
        "id": "6lcolDgnnwh1",
        "outputId": "c9ff8edd-b4b4-4e07-c3c2-41f3c5edf7dd"
      },
      "execution_count": null,
      "outputs": [
        {
          "output_type": "stream",
          "name": "stdout",
          "text": [
            "a\n",
            "16\n"
          ]
        }
      ]
    },
    {
      "cell_type": "code",
      "source": [
        "(1,2,3)<(1,0,5)"
      ],
      "metadata": {
        "colab": {
          "base_uri": "https://localhost:8080/"
        },
        "id": "ijX_Khp7uYhR",
        "outputId": "fb0316c1-b6e3-4cb9-bc30-09f78252cb39"
      },
      "execution_count": null,
      "outputs": [
        {
          "output_type": "execute_result",
          "data": {
            "text/plain": [
              "False"
            ]
          },
          "metadata": {},
          "execution_count": 23
        }
      ]
    },
    {
      "cell_type": "code",
      "source": [
        "tuple([1,2,3])"
      ],
      "metadata": {
        "colab": {
          "base_uri": "https://localhost:8080/"
        },
        "id": "YQAYSSu96MJO",
        "outputId": "006f1cdd-0000-41c3-83a2-665afc1b3538"
      },
      "execution_count": null,
      "outputs": [
        {
          "output_type": "execute_result",
          "data": {
            "text/plain": [
              "(1, 2, 3)"
            ]
          },
          "metadata": {},
          "execution_count": 25
        }
      ]
    },
    {
      "cell_type": "code",
      "source": [
        "s1 = set()\n",
        "type(s1)"
      ],
      "metadata": {
        "colab": {
          "base_uri": "https://localhost:8080/"
        },
        "id": "r90mkOj78Xee",
        "outputId": "039ad615-65e4-48ae-c51a-de098ae3ae09"
      },
      "execution_count": null,
      "outputs": [
        {
          "output_type": "execute_result",
          "data": {
            "text/plain": [
              "set"
            ]
          },
          "metadata": {},
          "execution_count": 26
        }
      ]
    },
    {
      "cell_type": "code",
      "source": [
        "D={\"Name\":\"Bhavya\",\"RollNo\":42,\"Subject\":\"Social\"}\n",
        "D"
      ],
      "metadata": {
        "colab": {
          "base_uri": "https://localhost:8080/"
        },
        "id": "T6y1Z72JB0Tv",
        "outputId": "0f413d56-083c-484b-86d7-6e5d2aca1d05"
      },
      "execution_count": null,
      "outputs": [
        {
          "output_type": "execute_result",
          "data": {
            "text/plain": [
              "{'Name': 'Bhavya', 'RollNo': 42, 'Subject': 'Social'}"
            ]
          },
          "metadata": {},
          "execution_count": 28
        }
      ]
    },
    {
      "cell_type": "code",
      "source": [
        "D=dict([(\"Name\",\"Bhavya\"),(\"RollNo\",42),(\"Subject\",\"Social\")])\n",
        "D"
      ],
      "metadata": {
        "colab": {
          "base_uri": "https://localhost:8080/"
        },
        "id": "1MCripC8CKN3",
        "outputId": "292826df-f169-4786-ed24-5d55efc323f6"
      },
      "execution_count": null,
      "outputs": [
        {
          "output_type": "execute_result",
          "data": {
            "text/plain": [
              "{'Name': 'Bhavya', 'RollNo': 42, 'Subject': 'Social'}"
            ]
          },
          "metadata": {},
          "execution_count": 30
        }
      ]
    },
    {
      "cell_type": "code",
      "source": [
        "D={'fruit':'Apple','qty':5,'color':'Red'}\n",
        "D.clear()\n",
        "dir()"
      ],
      "metadata": {
        "colab": {
          "base_uri": "https://localhost:8080/"
        },
        "id": "Pj14jQXMNDjA",
        "outputId": "62029281-7c80-4ec8-89f4-2f784a2ebf8c"
      },
      "execution_count": null,
      "outputs": [
        {
          "output_type": "execute_result",
          "data": {
            "text/plain": [
              "['D',\n",
              " 'In',\n",
              " 'Out',\n",
              " '_',\n",
              " '_19',\n",
              " '_20',\n",
              " '_21',\n",
              " '_22',\n",
              " '_23',\n",
              " '_24',\n",
              " '_25',\n",
              " '_26',\n",
              " '_28',\n",
              " '_30',\n",
              " '_32',\n",
              " '_33',\n",
              " '_37',\n",
              " '__',\n",
              " '___',\n",
              " '__builtin__',\n",
              " '__builtins__',\n",
              " '__doc__',\n",
              " '__loader__',\n",
              " '__name__',\n",
              " '__package__',\n",
              " '__spec__',\n",
              " '_dh',\n",
              " '_i',\n",
              " '_i1',\n",
              " '_i10',\n",
              " '_i11',\n",
              " '_i12',\n",
              " '_i13',\n",
              " '_i14',\n",
              " '_i15',\n",
              " '_i16',\n",
              " '_i17',\n",
              " '_i18',\n",
              " '_i19',\n",
              " '_i2',\n",
              " '_i20',\n",
              " '_i21',\n",
              " '_i22',\n",
              " '_i23',\n",
              " '_i24',\n",
              " '_i25',\n",
              " '_i26',\n",
              " '_i27',\n",
              " '_i28',\n",
              " '_i29',\n",
              " '_i3',\n",
              " '_i30',\n",
              " '_i31',\n",
              " '_i32',\n",
              " '_i33',\n",
              " '_i34',\n",
              " '_i35',\n",
              " '_i36',\n",
              " '_i37',\n",
              " '_i38',\n",
              " '_i39',\n",
              " '_i4',\n",
              " '_i5',\n",
              " '_i6',\n",
              " '_i7',\n",
              " '_i8',\n",
              " '_i9',\n",
              " '_ih',\n",
              " '_ii',\n",
              " '_iii',\n",
              " '_oh',\n",
              " 'aList',\n",
              " 'exit',\n",
              " 'get_ipython',\n",
              " 'l1',\n",
              " 'quit',\n",
              " 's1',\n",
              " 'sampleList',\n",
              " 't1']"
            ]
          },
          "metadata": {},
          "execution_count": 39
        }
      ]
    },
    {
      "cell_type": "code",
      "source": [
        "rec={'name':{'first':'Bhavya','second':'Bhagerathi'},'jobs':['dev','mgr'],'age':45}\n",
        "D={'age1':56,'age2':45,'age3':67}\n",
        "D.get('age4','None')"
      ],
      "metadata": {
        "colab": {
          "base_uri": "https://localhost:8080/",
          "height": 36
        },
        "id": "NGYiQvtJNYps",
        "outputId": "872de091-2823-49a7-d4bb-63ce00fce480"
      },
      "execution_count": null,
      "outputs": [
        {
          "output_type": "execute_result",
          "data": {
            "text/plain": [
              "'None'"
            ],
            "application/vnd.google.colaboratory.intrinsic+json": {
              "type": "string"
            }
          },
          "metadata": {},
          "execution_count": 74
        }
      ]
    },
    {
      "cell_type": "code",
      "source": [
        "age=20\n",
        "print('kid' if age>20 else 'adult')"
      ],
      "metadata": {
        "colab": {
          "base_uri": "https://localhost:8080/"
        },
        "id": "EWCqyVmISl5-",
        "outputId": "fce8f434-feb3-46de-9f11-7a142a8b4e5d"
      },
      "execution_count": null,
      "outputs": [
        {
          "output_type": "stream",
          "name": "stdout",
          "text": [
            "adult\n"
          ]
        }
      ]
    }
  ]
}